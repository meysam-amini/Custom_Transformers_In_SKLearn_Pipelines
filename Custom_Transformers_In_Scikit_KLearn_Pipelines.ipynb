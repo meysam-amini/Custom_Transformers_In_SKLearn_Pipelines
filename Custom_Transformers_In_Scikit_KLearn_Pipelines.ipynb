{
 "cells": [
  {
   "cell_type": "markdown",
   "metadata": {},
   "source": [
    "# Custom Transformers for Piplines in Scikit_Learn"
   ]
  },
  {
   "attachments": {
    "what_is-_a_data_pipeline_sml.png": {
     "image/png": "[encoded data removed]"
    }
   },
   "cell_type": "markdown",
   "metadata": {},
   "source": [
    "![what_is-_a_data_pipeline_sml.png](attachment:what_is-_a_data_pipeline_sml.png)"
   ]
  },
  {
   "cell_type": "markdown",
   "metadata": {},
   "source": [
    "## <div dir=\"rtl\"> اگه با کتابخونه‌ی Scikit_Learn آشنایی دارید، حتما پیش اومده که حین train مدل‌هاتون از Pipeline استفاده کردین. بعنوان مثال فرض کنید تمام داده‌های دیتافریم ما عددی هستند. در قطعه کد زیر ما تعیین کردیم که قبل از فیت شدن لاجستیک رگرسیون روی داده‌هامون، داده‌ها ابتدا scale بشن.\n"
   ]
  },
  {
   "cell_type": "code",
   "execution_count": 1,
   "metadata": {},
   "outputs": [],
   "source": [
    "from sklearn.pipeline import Pipeline\n",
    "from sklearn.preprocessing import StandardScaler\n",
    "from sklearn.linear_model import LogisticRegression\n",
    "\n",
    "\n",
    "pipeline = Pipeline(steps=[\n",
    "                           \n",
    "(\"my_scaler\" , StandardScaler()),\n",
    "\n",
    "(\"my_classifier\" , LogisticRegression())\n",
    "\n",
    "])"
   ]
  },
  {
   "cell_type": "markdown",
   "metadata": {},
   "source": [
    "## <div dir=\"rtl\"> حالا فرض کنید میخوایم از یک Transformer خاص و مد نظر خودمون به نام multiplierTransformer در Pipeline مون استفاده کنیم که یه ستون جدید (بنام multiple) به دیتافریم مون اضافه کنه که شامل حاصلضرب داده‌های دو ستون دلخواه a و b باشه:"
   ]
  },
  {
   "cell_type": "code",
   "execution_count": 3,
   "metadata": {
    "scrolled": true
   },
   "outputs": [],
   "source": [
    "pipeline = Pipeline(steps=[\n",
    "                           \n",
    "(\"my_multiplier\" , multiplierTransformer(\"a\",\"b\")),\n",
    "\n",
    "(\"my_scaler\" , StandardScaler()),\n",
    "\n",
    "(\"my_classifier\" , LogisticRegression())\n",
    "\n",
    "])"
   ]
  },
  {
   "cell_type": "markdown",
   "metadata": {},
   "source": [
    "## <div dir=\"rtl\"> برای این منظور، کلاس زیر رو تعریف میکنیم که دارای دو متد fit و transform بوده، و در سازنده یا constructor اون، ستون‌هایی که قراره بعنوان ورودی بدیم رو ست میکنیم:"
   ]
  },
  {
   "cell_type": "code",
   "execution_count": 2,
   "metadata": {
    "scrolled": true
   },
   "outputs": [],
   "source": [
    "class multiplierTransformer () :\n",
    "\n",
    "    def __init__(self, a , b) :\n",
    "\n",
    "        self.column1 = a\n",
    "        self.column2 = b\n",
    "\n",
    "    def transform(self, x , y=None) :\n",
    "\n",
    "        x['multiple'] = x[self.column1] * x[self.column2]\n",
    "        return x\n",
    "\n",
    "    def fit(self, x, y=None) :\n",
    "        return self\n",
    "\n"
   ]
  },
  {
   "cell_type": "markdown",
   "metadata": {},
   "source": [
    "## <div dir=\"rtl\"> سپس میتونیم از Transformer جدیدمون استفاده کنیم و پایپلاینی که ایجاد کردیم رو روی داده‌هامون فیت کنیم و بعد روی داده‌های تست، predict انجام بدیم :"
   ]
  },
  {
   "cell_type": "code",
   "execution_count": 106,
   "metadata": {},
   "outputs": [],
   "source": [
    "pipeline.fit(x_train , y_train)\n",
    "pipeline.predict(x_test)"
   ]
  },
  {
   "cell_type": "markdown",
   "metadata": {},
   "source": [
    "## <div dir=\"rtl\"> و به این ترتیب با عبور داده‌ها از step اول pipelineمون، در هر سطر از دیتافریم، یه ستون جدید بنام 'multiple' از حاصلضرب دو ستون a و b ایجاد میشه. و میتونیم ترنسفورمری که ساختیم رو  به تنهایی(میخوایم فقط خروجی ترنسفور رو چک کنیم) روی یه دیتافریم ساختگی امتحان کنیم:"
   ]
  },
  {
   "cell_type": "code",
   "execution_count": 4,
   "metadata": {},
   "outputs": [
    {
     "data": {
      "text/html": [
       "<div>\n",
       "<style scoped>\n",
       "    .dataframe tbody tr th:only-of-type {\n",
       "        vertical-align: middle;\n",
       "    }\n",
       "\n",
       "    .dataframe tbody tr th {\n",
       "        vertical-align: top;\n",
       "    }\n",
       "\n",
       "    .dataframe thead th {\n",
       "        text-align: right;\n",
       "    }\n",
       "</style>\n",
       "<table border=\"1\" class=\"dataframe\">\n",
       "  <thead>\n",
       "    <tr style=\"text-align: right;\">\n",
       "      <th></th>\n",
       "      <th>col_1</th>\n",
       "      <th>col_2</th>\n",
       "      <th>col_3</th>\n",
       "      <th>col_4</th>\n",
       "      <th>multiple</th>\n",
       "    </tr>\n",
       "  </thead>\n",
       "  <tbody>\n",
       "    <tr>\n",
       "      <th>0</th>\n",
       "      <td>0</td>\n",
       "      <td>8</td>\n",
       "      <td>1</td>\n",
       "      <td>5</td>\n",
       "      <td>5</td>\n",
       "    </tr>\n",
       "    <tr>\n",
       "      <th>1</th>\n",
       "      <td>3</td>\n",
       "      <td>4</td>\n",
       "      <td>2</td>\n",
       "      <td>6</td>\n",
       "      <td>12</td>\n",
       "    </tr>\n",
       "    <tr>\n",
       "      <th>2</th>\n",
       "      <td>4</td>\n",
       "      <td>1</td>\n",
       "      <td>3</td>\n",
       "      <td>7</td>\n",
       "      <td>21</td>\n",
       "    </tr>\n",
       "    <tr>\n",
       "      <th>3</th>\n",
       "      <td>9</td>\n",
       "      <td>0</td>\n",
       "      <td>4</td>\n",
       "      <td>8</td>\n",
       "      <td>32</td>\n",
       "    </tr>\n",
       "  </tbody>\n",
       "</table>\n",
       "</div>"
      ],
      "text/plain": [
       "   col_1  col_2  col_3  col_4  multiple\n",
       "0      0      8      1      5         5\n",
       "1      3      4      2      6        12\n",
       "2      4      1      3      7        21\n",
       "3      9      0      4      8        32"
      ]
     },
     "execution_count": 4,
     "metadata": {},
     "output_type": "execute_result"
    }
   ],
   "source": [
    "import pandas as pd\n",
    "\n",
    "df = pd.DataFrame({\n",
    "    \"col_1\" : [0 , 3 , 4 , 9],\n",
    "    \"col_2\" : [8 , 4 , 1 , 0],\n",
    "    \"col_3\" : [1 , 2 , 3 , 4],\n",
    "    \"col_4\" : [5 , 6 , 7 , 8],\n",
    "    \"class\" : [0 , 1 , 0 , 1]\n",
    "})\n",
    "\n",
    "x_train = df.drop('class', axis=1)\n",
    "\n",
    "y_train = df['class']\n",
    "\n",
    "\n",
    "pipeline = Pipeline(steps = [\n",
    "\n",
    "(\"my_multiplier\" , multiplierTransformer(\"col_3\" , \"col_4\"))             \n",
    "\n",
    "])\n",
    "\n",
    "pipeline.fit_transform(x_train)"
   ]
  },
  {
   "cell_type": "markdown",
   "metadata": {},
   "source": [
    "## <div dir=\"rtl\">*در مثال بالا ما متد fit_transform رو فراخوانی کردیم تا خروجی رو ببینیم و در پایپلاینمون هیچ estimator ای نبود(مثل LogisticRegression)، چون estimatorها متد transform ندارن."
   ]
  },
  {
   "cell_type": "markdown",
   "metadata": {},
   "source": [
    "## <div dir=\"rtl\">درواقع وقتی متد fit رو در پایپلاین فراخوانی می‌کنیم، متد fit مربوط به Transformerهای حاضر در pipeline  فراخوانی میشه. و با فراخوانی متد predict مربوط به pipline، تنها متد transform مربوط به Transformerهای حاضر در pipline فراخوانی میشه.\n"
   ]
  },
  {
   "cell_type": "markdown",
   "metadata": {},
   "source": [
    "## <div dir=\"rtl\">متد fit اونجاییه که فاز \"یادگیری (learning)\" اتفاق میوفته و پارامترهای مدلمون و همچنین Transformerهای حاضر در pipeline ، در متد fit ایجاد میشن. "
   ]
  },
  {
   "cell_type": "markdown",
   "metadata": {},
   "source": [
    "## <div dir=\"rtl\">حالا بعنوان مثال فرض کنید بخوایم در ترسنفورمری که ساختیم، به اون حاصلضربمون(ضرب دو ستون a و b) میانگین داده‌های دو ستون رو اضافه کنیم و اینبار حاصل رو در ستون \"multipleAndMeans\" قرار بدیم. برای این منظور باید عملیات بدست آوردن میانگین‌ها رو در متد \"fit\" انجام بدیم تا وقتی متد transform فراخوانی شد، این مقادیر(میانگین اعداد دو ستون) رو داشته باشیم:"
   ]
  },
  {
   "cell_type": "code",
   "execution_count": 5,
   "metadata": {
    "scrolled": true
   },
   "outputs": [],
   "source": [
    "class multiplierTransformer() :\n",
    "\n",
    "    def __init__(self, a , b) :\n",
    "\n",
    "        self.column1 = column1\n",
    "        self.column2 = column2\n",
    "\n",
    "\n",
    "    def transform(self, X , y=None) :\n",
    "\n",
    "        X['multipleAndMeans'] = X[self.column1] * X[self.column2] + self.mean1 + self.mean2\n",
    "        return X\n",
    "\n",
    "\n",
    "    def fit(self, X , y=None) :\n",
    "\n",
    "        self.mean1 = X[self.column1].mean()\n",
    "        self.mean2 = X[self.column2].mean()\n",
    "        return self"
   ]
  },
  {
   "cell_type": "markdown",
   "metadata": {},
   "source": [
    "## امیدوارم مفید واقع بشه"
   ]
  }
 ],
 "metadata": {
  "jupytext": {
   "cell_metadata_filter": "-all",
   "main_language": "python",
   "notebook_metadata_filter": "-all"
  },
  "kernelspec": {
   "display_name": "Python 3",
   "language": "python",
   "name": "python3"
  },
  "language_info": {
   "codemirror_mode": {
    "name": "ipython",
    "version": 3
   },
   "file_extension": ".py",
   "mimetype": "text/x-python",
   "name": "python",
   "nbconvert_exporter": "python",
   "pygments_lexer": "ipython3",
   "version": "3.8.3"
  },
  "nbreset": "https://github.com/INRIA/scikit-learn-mooc/raw/master/notebooks/cross_validation_nested.ipynb"
 },
 "nbformat": 4,
 "nbformat_minor": 5
}
